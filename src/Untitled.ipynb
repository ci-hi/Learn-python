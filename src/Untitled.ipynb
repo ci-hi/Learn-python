{
 "cells": [
  {
   "attachments": {},
   "cell_type": "markdown",
   "id": "a8db34d6-a654-4fcd-aec1-8f3158508e91",
   "metadata": {},
   "source": [
    "1.Kmeans聚类"
   ]
  },
  {
   "cell_type": "code",
   "execution_count": 1,
   "id": "8f8aae3e-6029-4c27-b417-a4e1c4e6fc54",
   "metadata": {
    "execution": {
     "iopub.execute_input": "2023-06-19T09:58:10.109927Z",
     "iopub.status.busy": "2023-06-19T09:58:10.109927Z",
     "iopub.status.idle": "2023-06-19T09:58:12.150593Z",
     "shell.execute_reply": "2023-06-19T09:58:12.149592Z",
     "shell.execute_reply.started": "2023-06-19T09:58:10.109927Z"
    }
   },
   "outputs": [],
   "source": [
    "import numpy as np\n",
    "import pandas as pd\n",
    "import matplotlib.pyplot as plt\n",
    "from sklearn.cluster import KMeans"
   ]
  },
  {
   "cell_type": "code",
   "execution_count": 2,
   "id": "29787e47-74c3-4094-8609-5c0a057e9f39",
   "metadata": {
    "execution": {
     "iopub.execute_input": "2023-06-19T09:58:12.151594Z",
     "iopub.status.busy": "2023-06-19T09:58:12.151594Z",
     "iopub.status.idle": "2023-06-19T09:58:12.165700Z",
     "shell.execute_reply": "2023-06-19T09:58:12.165191Z",
     "shell.execute_reply.started": "2023-06-19T09:58:12.151594Z"
    }
   },
   "outputs": [
    {
     "name": "stdout",
     "output_type": "stream",
     "text": [
      "    assists_per_minute  points_per_minute\n",
      "0               0.0888             0.5885\n",
      "1               0.1399             0.8291\n",
      "2               0.0747             0.4974\n",
      "3               0.0983             0.5772\n",
      "4               0.1276             0.5703\n",
      "5               0.1671             0.5835\n",
      "6               0.1906             0.5276\n",
      "7               0.1061             0.5523\n",
      "8               0.2446             0.4007\n",
      "9               0.1670             0.4770\n",
      "10              0.2485             0.4313\n",
      "11              0.1227             0.4909\n",
      "12              0.1240             0.5668\n",
      "13              0.1461             0.5113\n",
      "14              0.2315             0.3788\n",
      "15              0.0494             0.5590\n",
      "16              0.1107             0.4799\n",
      "17              0.2521             0.5735\n",
      "18              0.1007             0.6318\n",
      "19              0.1067             0.4326\n",
      "20              0.1956             0.4280\n"
     ]
    }
   ],
   "source": [
    "# 读取数据\n",
    "data = pd.read_csv(\"data.csv\")\n",
    "X = data.iloc[:,1:]\n",
    "print(X)"
   ]
  },
  {
   "cell_type": "code",
   "execution_count": 3,
   "id": "16fac192-4260-46e6-80f7-29c678f13f32",
   "metadata": {
    "execution": {
     "iopub.execute_input": "2023-06-19T09:58:12.166719Z",
     "iopub.status.busy": "2023-06-19T09:58:12.166208Z",
     "iopub.status.idle": "2023-06-19T09:58:12.367464Z",
     "shell.execute_reply": "2023-06-19T09:58:12.366462Z",
     "shell.execute_reply.started": "2023-06-19T09:58:12.166719Z"
    }
   },
   "outputs": [
    {
     "name": "stderr",
     "output_type": "stream",
     "text": [
      "g:\\BDC\\conda\\lab\\lib\\site-packages\\sklearn\\cluster\\_kmeans.py:870: FutureWarning: The default value of `n_init` will change from 10 to 'auto' in 1.4. Set the value of `n_init` explicitly to suppress the warning\n",
      "  warnings.warn(\n"
     ]
    },
    {
     "name": "stdout",
     "output_type": "stream",
     "text": [
      "[1 0 3 1 1 4 4 1 2 3 2 3 1 3 2 1 3 4 1 3 2]\n"
     ]
    }
   ],
   "source": [
    "#K-means聚类\n",
    "clf = KMeans(n_clusters=5)  #表示输出将数据集分成类簇数为5的聚类\n",
    "#输出聚类预测结果，对X聚类，20行数据，每个y_pred对应X的一行或一个孩子，聚成3类，类标为0、1、2\n",
    "y_pred = clf.fit_predict(X)\n",
    "print(y_pred)  #输出结果\n",
    "\n",
    "x = X.iloc[:,0]\n",
    "y = X.iloc[:,1]"
   ]
  },
  {
   "cell_type": "code",
   "execution_count": 4,
   "id": "0e871584-4982-4fc7-b241-e6a2afdf7392",
   "metadata": {
    "execution": {
     "iopub.execute_input": "2023-06-19T09:58:12.370467Z",
     "iopub.status.busy": "2023-06-19T09:58:12.368465Z",
     "iopub.status.idle": "2023-06-19T09:58:12.740074Z",
     "shell.execute_reply": "2023-06-19T09:58:12.740074Z",
     "shell.execute_reply.started": "2023-06-19T09:58:12.370467Z"
    }
   },
   "outputs": [
    {
     "data": {
      "image/png": "[encoded data removed]",
      "text/plain": [
       "<Figure size 640x480 with 1 Axes>"
      ]
     },
     "metadata": {},
     "output_type": "display_data"
    }
   ],
   "source": [
    "# 可视化操作\n",
    "#绘制散点图（scatter），横轴为x，获取的第1列数据；纵轴为y，获取的第2列数据；\n",
    "#c=y_pred对聚类的预测结果画出散点图，marker='o'说明用点表示图形\n",
    "plt.scatter(x, y, c=y_pred, marker='o')\n",
    "plt.title(\"Kmeans\")\n",
    "plt.xlabel(\"assists_per_minute\")  #表示图形x轴的标题\n",
    "plt.ylabel(\"points_per_minute\")  #表示图形y轴的标题\n",
    "plt.legend([\"Rank\"])  #设置右上角图例\n",
    "plt.show()  #显示图形"
   ]
  },
  {
   "attachments": {},
   "cell_type": "markdown",
   "id": "89d92305-644d-4125-ba94-79c9239ab95b",
   "metadata": {},
   "source": [
    "2.DBSCAN聚类"
   ]
  },
  {
   "cell_type": "code",
   "execution_count": 19,
   "id": "27d3841c-774d-429a-9c1a-b73db4e577f3",
   "metadata": {
    "execution": {
     "iopub.execute_input": "2023-06-19T09:58:12.742076Z",
     "iopub.status.busy": "2023-06-19T09:58:12.741075Z",
     "iopub.status.idle": "2023-06-19T09:58:12.976719Z",
     "shell.execute_reply": "2023-06-19T09:58:12.975216Z",
     "shell.execute_reply.started": "2023-06-19T09:58:12.742076Z"
    }
   },
   "outputs": [],
   "source": [
    "from sklearn.cluster import DBSCAN\n",
    "from sklearn import metrics\n",
    "import numpy as np\n",
    "from sklearn.datasets._samples_generator import make_blobs\n",
    "from sklearn.preprocessing import StandardScaler\n",
    "import matplotlib.pyplot as plt\n",
    "plt.rcParams['font.sans-serif']=['SimHei'] #用来正常显示中文标签\n",
    "plt.rcParams['axes.unicode_minus']=False #用来正常显示负号"
   ]
  },
  {
   "cell_type": "code",
   "execution_count": 30,
   "id": "f27ddd6d-fb6b-431b-98c1-a528e5aa38e7",
   "metadata": {
    "execution": {
     "iopub.execute_input": "2023-06-19T09:58:12.978726Z",
     "iopub.status.busy": "2023-06-19T09:58:12.977726Z",
     "iopub.status.idle": "2023-06-19T09:58:12.992255Z",
     "shell.execute_reply": "2023-06-19T09:58:12.991253Z",
     "shell.execute_reply.started": "2023-06-19T09:58:12.977726Z"
    }
   },
   "outputs": [
    {
     "data": {
      "text/plain": [
       "array([[-1.10579248, -0.25320286],\n",
       "       [-0.80875254, -0.60944953],\n",
       "       [ 1.08330388, -1.04919253],\n",
       "       [ 0.86028982,  0.56581251],\n",
       "       [ 1.16126444,  0.05166144],\n",
       "       [ 0.96839689, -0.73618878],\n",
       "       [ 1.20093336, -0.33308125],\n",
       "       [-0.50989886,  1.79484996],\n",
       "       [-1.07727571, -1.04975751],\n",
       "       [ 1.48580296, -1.19969828],\n",
       "       [-0.82385836, -0.73755931],\n",
       "       [ 0.0600073 ,  2.25755247],\n",
       "       [-0.35588501, -0.42086918],\n",
       "       [ 0.84930977, -0.10238657],\n",
       "       [-0.86768314,  1.29386131],\n",
       "       [-0.46805181,  1.95276149],\n",
       "       [-0.20390049, -0.31727407],\n",
       "       [ 1.20486217, -1.1084078 ],\n",
       "       [ 0.44562588,  0.05457789],\n",
       "       [-0.89447848, -0.22193857],\n",
       "       [-2.20421958,  0.1679292 ]])"
      ]
     },
     "execution_count": 30,
     "metadata": {},
     "output_type": "execute_result"
    }
   ],
   "source": [
    "centers =[[ 0.93392233,  0.34254677],\n",
    "       [ 1.38063091, -1.20734734],\n",
    "       [-0.85180007,  0.40766444],\n",
    "       [-0.12294513,  3.07383108],\n",
    "       [-0.27738899, -0.50667951]]\n",
    "X, labels_true = make_blobs(n_samples=21, centers=centers, cluster_std=0.4, random_state=0)\n",
    "X = StandardScaler().fit_transform(X)"
   ]
  },
  {
   "cell_type": "code",
   "execution_count": 31,
   "id": "73e4770e-5e02-4b65-9e42-4db26c89557d",
   "metadata": {
    "execution": {
     "iopub.execute_input": "2023-06-19T09:58:12.993443Z",
     "iopub.status.busy": "2023-06-19T09:58:12.993443Z",
     "iopub.status.idle": "2023-06-19T09:58:13.206893Z",
     "shell.execute_reply": "2023-06-19T09:58:13.205891Z",
     "shell.execute_reply.started": "2023-06-19T09:58:12.993443Z"
    },
    "tags": []
   },
   "outputs": [
    {
     "name": "stdout",
     "output_type": "stream",
     "text": [
      "[ 0  1  2 -1 -1 -1 -1  3 -1  2  1 -1  4 -1 -1  3  4  2 -1  0 -1]\n",
      "Estimated number of clusters: 5\n",
      "Homogeneity: 0.556\n",
      "Completeness: 0.584\n",
      "V-measure: 0.569\n",
      "Adjusted Rand Index: 0.248\n",
      "Adjusted Mutual Information: 0.332\n",
      "Silhouette Coefficient: 0.168\n"
     ]
    },
    {
     "data": {
      "image/png": "[encoded data removed]",
      "text/plain": [
       "<Figure size 640x480 with 1 Axes>"
      ]
     },
     "metadata": {},
     "output_type": "display_data"
    }
   ],
   "source": [
    "# Compute DBSCAN\n",
    "db = DBSCAN(eps=0.3, min_samples=2).fit(X)\n",
    "core_samples_mask = np.zeros_like(db.labels_, dtype=bool)# 设置一个样本个数长度的全false向量\n",
    "core_samples_mask[db.core_sample_indices_] = True #将核心样本部分设置为true\n",
    "labels = db.labels_\n",
    "print(labels)\n",
    "n_clusters_ = len(set(labels)) - (1 if -1 in labels else 0)\n",
    "\n",
    "print('Estimated number of clusters: %d' % n_clusters_)\n",
    "print(\"Homogeneity: %0.3f\" % metrics.homogeneity_score(labels_true, labels)) # 每个簇只包含单个类的成员\n",
    "print(\"Completeness: %0.3f\" % metrics.completeness_score(labels_true, labels))# 给定类的所有成员都分配给同一个簇。\n",
    "print(\"V-measure: %0.3f\" % metrics.v_measure_score(labels_true, labels))# 给定类的所有成员都分配给同一个群集。\n",
    "print(\"Adjusted Rand Index: %0.3f\"\n",
    "      % metrics.adjusted_rand_score(labels_true, labels))\n",
    "print(\"Adjusted Mutual Information: %0.3f\"\n",
    "      % metrics.adjusted_mutual_info_score(labels_true, labels))\n",
    "print(\"Silhouette Coefficient: %0.3f\"\n",
    "      % metrics.silhouette_score(X, labels))\n",
    "\n",
    "# 使用黑色标注离散点\n",
    "unique_labels = set(labels)\n",
    "colors = [plt.cm.Spectral(each)\n",
    "          for each in np.linspace(0, 1, len(unique_labels))]\n",
    "for k, col in zip(unique_labels, colors):\n",
    "    if k == -1:\n",
    "        # 使用黑色标注离散点\n",
    "        # 使用黑色绘制离散点\n",
    "        col = [0, 0, 0, 1]\n",
    "\n",
    "    class_member_mask = (labels == k)# 将所有属于该聚类的样本位置置为true\n",
    "\n",
    "    xy = X[class_member_mask & core_samples_mask] # 将所有属于该类的核心样本取出，使用大图标绘制\n",
    "    plt.plot(xy[:, 0], xy[:, 1], 'o', markerfacecolor=tuple(col),\n",
    "             markeredgecolor='k', markersize=14)\n",
    "\n",
    "    xy = X[class_member_mask & ~core_samples_mask]# 将所有属于该类的非核心样本取出，使用小图标绘制\n",
    "    plt.plot(xy[:, 0], xy[:, 1], 'o', markerfacecolor=tuple(col),\n",
    "             markeredgecolor='k', markersize=6)\n",
    "\n",
    "plt.title('估计类数量: %d' % n_clusters_)\n",
    "plt.show()"
   ]
  }
 ],
 "metadata": {
  "kernelspec": {
   "display_name": "lab",
   "language": "python",
   "name": "lab"
  },
  "language_info": {
   "codemirror_mode": {
    "name": "ipython",
    "version": 3
   },
   "file_extension": ".py",
   "mimetype": "text/x-python",
   "name": "python",
   "nbconvert_exporter": "python",
   "pygments_lexer": "ipython3",
   "version": "3.10.11"
  },
  "widgets": {
   "application/vnd.jupyter.widget-state+json": {
    "state": {},
    "version_major": 2,
    "version_minor": 0
   }
  }
 },
 "nbformat": 4,
 "nbformat_minor": 5
}
